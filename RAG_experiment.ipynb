{
 "cells": [
  {
   "cell_type": "markdown",
   "metadata": {},
   "source": [
    "# LLM & Langchain & RAG experiment"
   ]
  },
  {
   "cell_type": "markdown",
   "metadata": {},
   "source": [
    "## Import"
   ]
  },
  {
   "cell_type": "code",
   "execution_count": 1,
   "metadata": {},
   "outputs": [],
   "source": [
    "from langchain_openai import ChatOpenAI\n",
    "from langchain_openai.embeddings import OpenAIEmbeddings\n",
    "from langchain_community.vectorstores import Chroma\n",
    "from langchain.schema import Document\n",
    "from langchain.schema import BaseOutputParser\n",
    "from langchain_core.prompts import PromptTemplate\n",
    "from langchain_community.chat_message_histories import ChatMessageHistory\n",
    "from langchain_core.runnables.history import RunnableWithMessageHistory\n",
    "from operator import itemgetter\n",
    "from dotenv import load_dotenv\n",
    "import os"
   ]
  },
  {
   "cell_type": "markdown",
   "metadata": {},
   "source": [
    "## API Key"
   ]
  },
  {
   "cell_type": "code",
   "execution_count": 27,
   "metadata": {},
   "outputs": [],
   "source": [
    "# .env 파일 로드\n",
    "load_dotenv()\n",
    "\n",
    "# OpenAI API 키 로드\n",
    "openai_api_key = os.getenv(\"OPENAI_API_KEY\")"
   ]
  },
  {
   "cell_type": "markdown",
   "metadata": {},
   "source": [
    "## Model & Embedding"
   ]
  },
  {
   "cell_type": "code",
   "execution_count": 28,
   "metadata": {},
   "outputs": [],
   "source": [
    "# LLM 모델 설정\n",
    "llm = ChatOpenAI(model=\"gpt-4o-mini\", temperature=0, openai_api_key=openai_api_key)\n",
    "\n",
    "# 임베딩 설정\n",
    "embeddings = OpenAIEmbeddings(openai_api_key=openai_api_key)"
   ]
  },
  {
   "cell_type": "markdown",
   "metadata": {},
   "source": [
    "## Load & Split"
   ]
  },
  {
   "cell_type": "code",
   "execution_count": 29,
   "metadata": {},
   "outputs": [],
   "source": [
    "# 크롤링된 텍스트 파일 로드\n",
    "def load_crawled_data():\n",
    "    file_path = './scripts/crawler_output.txt'\n",
    "    with open(file_path, 'r', encoding='utf-8') as file:\n",
    "        text = file.read()\n",
    "        \n",
    "    # 텍스트를 적절한 길이로 나누어서 Document 리스트로 변환\n",
    "    docs = [Document(page_content=text[i:i+1000]) for i in range(0, len(text), 1000)]\n",
    "    return docs"
   ]
  },
  {
   "cell_type": "markdown",
   "metadata": {},
   "source": [
    "## Vector Store"
   ]
  },
  {
   "cell_type": "code",
   "execution_count": 30,
   "metadata": {},
   "outputs": [],
   "source": [
    "# 벡터스토어 초기화\n",
    "def initialize_vectorstore():\n",
    "    documents = load_crawled_data()\n",
    "    vectorstore = Chroma.from_documents(documents, embeddings, persist_directory=\"chroma_store\")\n",
    "    return vectorstore\n",
    "\n",
    "vectorstore = initialize_vectorstore()"
   ]
  },
  {
   "cell_type": "markdown",
   "metadata": {},
   "source": [
    "## Retrieval"
   ]
  },
  {
   "cell_type": "code",
   "execution_count": 31,
   "metadata": {},
   "outputs": [],
   "source": [
    "# 리트리버 초기화\n",
    "retriever = vectorstore.as_retriever(search_kwargs={'k': 10})"
   ]
  },
  {
   "cell_type": "markdown",
   "metadata": {},
   "source": [
    "## Parser"
   ]
  },
  {
   "cell_type": "code",
   "execution_count": 32,
   "metadata": {},
   "outputs": [],
   "source": [
    "# 아웃풋 파서 \n",
    "class OutputParser(BaseOutputParser):\n",
    "    def parse(self, text: str):\n",
    "        return text.strip().split(\"\\n\")"
   ]
  },
  {
   "cell_type": "markdown",
   "metadata": {},
   "source": [
    "## Prompt"
   ]
  },
  {
   "cell_type": "code",
   "execution_count": 33,
   "metadata": {},
   "outputs": [],
   "source": [
    "# 프롬프트 템플릿 지정\n",
    "prompt_template = \"\"\"\n",
    "당신은 워커힐(walkerhill)의 고객 상담원입니다. 고객의 멤버십 이용 관련 문의에 대해 정확하고 친절하게 답변하세요.\n",
    "절대로 답변을 지어내지 말고, 제공된 멤버십 약관이나 사전에 정해진 문서를 바탕으로만 답변을 제공해야 합니다.\n",
    "고객의 질문을 분석하고, 질문에 사용된 언어를 감지하여 해당 언어로 답변하세요.\n",
    "고객이 사용하는 언어가 자동으로 감지되면, 그 언어로 질문에 답변을 제공하세요.\n",
    "고객의 질문을 차근차근 생각한 후 친절하게 답변하고, 너무 길게 답하지 마세요.\n",
    "\n",
    "**만약 질문에 대한 답을 모른다면 절대 지어내지 마세요. 그 대신 \"죄송합니다, 해당 사항에 대해서는 확실히 알지 못합니다\"라고 답변하세요.**\n",
    "\n",
    "고객이 부정적이거나 비속어를 사용하는 경우에는 친절하지만 단호하게 경고 메시지를 보내세요. 예를 들어, \"고객님, 서비스 이용 시 부적절한 표현은 자제 부탁드립니다.\"라고 말합니다.\n",
    "\n",
    "답변을 제공할 때, 문장이 끝날 때마다 줄을 바꾸어 가독성을 높이세요.\n",
    "아래 예시를 참고하여 문장을 짧게 구분하고, 항목별로 답변을 나누어 단락을 나누어 제공하세요.\n",
    "'*' 와 같은 특수문자는 사용하지 않고 대답을 제공하세요.\n",
    "\n",
    "### Example 1:\n",
    "Q: \"포인트는 어떻게 적립되나요?\"\n",
    "A: \n",
    "<br>\n",
    "👉 적립 기준: 상품 구매 및 서비스 이용 결제대금의 1%가 적립됩니다. <br>\n",
    "👉 포인트 적립 가능 항목: 객실 요금, 식사, 부대시설 이용 등.<br>\n",
    "👉 포인트 적립 시점: 결제가 완료된 다음 날, 자동으로 적립됩니다.<br>\n",
    "\n",
    "### Example 2:\n",
    "Q: \"회원 탈퇴 시 포인트는 어떻게 처리되나요?\"\n",
    "A: \n",
    "<br>\n",
    "👉 포인트 소멸: 회원 탈퇴 시 보유한 포인트는 즉시 소멸됩니다.<br>\n",
    "👉 포인트 사용 가능 시기: 탈퇴 전에 포인트를 모두 사용해야 합니다.\n",
    "\n",
    "### Example 3 (경고 메시지):\n",
    "Q: \"왜 이런 엉망진창의 서비스를 제공하나요?\"\n",
    "A: \n",
    "<br>\n",
    "고객님, 서비스 이용 시 부적절한 표현은 자제 부탁드립니다. 문의하신 사항에 대해 설명드리겠습니다.<br>\n",
    "👉 서비스 변경 사항: 최근 시스템 업데이트로 인해 약간의 지연이 발생했습니다.<br>\n",
    "👉 문제 해결 방법: 이 문제는 빠르게 해결될 예정이며, 곧 정상 서비스가 가능할 것입니다.\n",
    "\n",
    "### Example 4 (모르는 질문에 대한 응답):\n",
    "Q: \"멤버십 포인트를 다른 계정으로 이체할 수 있나요?\"\n",
    "A: \n",
    "<br>\n",
    "죄송합니다, 해당 사항에 대해서는 확실히 알지 못합니다. 더 정확한 정보를 원하시면, 고객센터(☎️대표번호 1670-0005, ✉️이메일 contact@walkerhill.com)에 문의해 주시기 바랍니다.\n",
    "\n",
    "만약 답을 모르거나, 고객이 문의하고 싶다고 하면, \n",
    "고객센터(☎️대표번호 1670-0005, ✉️이메일 contact@walkerhill.com)에 직접 문의하라고 말하세요.\n",
    "\n",
    "# 고객의 질문에 사용된 언어로 답변을 하세요. 고객의 질문 언어를 인식하고, 그 언어로 답변을 제공하세요.\n",
    "\n",
    "#Previous Chat History:\n",
    "{chat_history}\n",
    "\n",
    "#Question:\n",
    "{question}\n",
    "\n",
    "#Context:\n",
    "{context}\n",
    "\n",
    "#Answer:\n",
    "\"\"\"\n",
    "\n",
    "rag_prompt_custom = PromptTemplate.from_template(prompt_template)"
   ]
  },
  {
   "cell_type": "markdown",
   "metadata": {},
   "source": [
    "## RAG System"
   ]
  },
  {
   "cell_type": "code",
   "execution_count": 34,
   "metadata": {},
   "outputs": [],
   "source": [
    "# rag_chain 설정\n",
    "rag_chain = (\n",
    "    {\n",
    "        \"context\": itemgetter(\"question\") | retriever,\n",
    "        \"question\": itemgetter(\"question\"),\n",
    "        \"chat_history\": itemgetter(\"chat_history\"),\n",
    "    }\n",
    "    | rag_prompt_custom\n",
    "    | llm\n",
    "    | OutputParser()\n",
    ")"
   ]
  },
  {
   "cell_type": "markdown",
   "metadata": {},
   "source": [
    "## Conversation History"
   ]
  },
  {
   "cell_type": "code",
   "execution_count": 35,
   "metadata": {},
   "outputs": [],
   "source": [
    "# 세션 기록을 저장할 딕셔너리\n",
    "store = {}\n",
    "\n",
    "# 세션 ID를 기반으로 세션 기록을 가져오는 함수\n",
    "def get_session_history(session_ids):\n",
    "    print(f\"[대화 세션ID]: {session_ids}\")\n",
    "    if session_ids not in store:  # 세션 ID가 store에 없는 경우\n",
    "        store[session_ids] = ChatMessageHistory()\n",
    "    return store[session_ids]  # 해당 세션 ID에 대한 세션 기록 반환\n",
    "\n",
    "# 대화를 기록하는 RAG 시스템 체인 생성\n",
    "rag_with_history = RunnableWithMessageHistory(\n",
    "    rag_chain,\n",
    "    get_session_history,  # 세션 기록을 가져오는 함수\n",
    "    input_messages_key=\"question\",  # 사용자의 질문이 템플릿 변수에 들어갈 key\n",
    "    history_messages_key=\"chat_history\",  # 기록 메시지의 키\n",
    ")"
   ]
  },
  {
   "cell_type": "markdown",
   "metadata": {},
   "source": [
    "## Invoke"
   ]
  },
  {
   "cell_type": "code",
   "execution_count": 36,
   "metadata": {},
   "outputs": [
    {
     "name": "stdout",
     "output_type": "stream",
     "text": [
      "[대화 세션ID]: rag123\n"
     ]
    },
    {
     "data": {
      "text/plain": [
       "['<br>',\n",
       " '👉 포인트 적립 기준: 상품 또는 서비스를 구입하고 결제한 금액의 일부에 대해 적립됩니다. <br>',\n",
       " '👉 적립 시점: 결제가 완료된 다음 날 자동으로 적립됩니다. <br>',\n",
       " '👉 포인트 적립 요청: 회원 카드 또는 번호를 제시하지 않아 적립하지 못한 경우, 3개월 이내에 증빙서류를 제출하면 소급하여 적립할 수 있습니다. <br>',\n",
       " '👉 포인트 사용: 1포인트는 1원으로 환산되며, 최소 100포인트부터 사용 가능합니다. <br>']"
      ]
     },
     "execution_count": 36,
     "metadata": {},
     "output_type": "execute_result"
    }
   ],
   "source": [
    "rag_with_history.invoke(\n",
    "    # 질문 입력\n",
    "    {\"question\": \"포인트는 어떻게 적립되나요?\"},\n",
    "    # 세션 ID 기준으로 대화를 기록\n",
    "    config={\"configurable\": {\"session_id\": \"rag123\"}},\n",
    ")"
   ]
  },
  {
   "cell_type": "code",
   "execution_count": 37,
   "metadata": {},
   "outputs": [
    {
     "name": "stdout",
     "output_type": "stream",
     "text": [
      "[대화 세션ID]: rag123\n"
     ]
    },
    {
     "data": {
      "text/plain": [
       "['<br>',\n",
       " '👉 포인트 적립 방법: 상품 구매 또는 서비스 이용 시 결제 금액의 일부가 포인트로 적립됩니다. <br>',\n",
       " '👉 적립 시점: 결제가 완료된 다음 날 자동으로 적립됩니다. <br>',\n",
       " '👉 포인트 사용: 1포인트는 1원으로 환산되며, 최소 100포인트부터 사용 가능합니다. <br>',\n",
       " '👉 누락된 포인트 적립: 회원 카드 또는 번호를 제시하지 않아 적립하지 못한 경우, 3개월 이내에 증빙서류를 제출하면 소급하여 적립할 수 있습니다. <br>']"
      ]
     },
     "execution_count": 37,
     "metadata": {},
     "output_type": "execute_result"
    }
   ],
   "source": [
    "rag_with_history.invoke(\n",
    "    # 질문 입력\n",
    "    {\"question\": \"다시 한 번만 더 쉽게 설명해 줄래?\"},\n",
    "    # 세션 ID 기준으로 대화를 기록\n",
    "    config={\"configurable\": {\"session_id\": \"rag123\"}},\n",
    ")"
   ]
  }
 ],
 "metadata": {
  "kernelspec": {
   "display_name": "walkerhill",
   "language": "python",
   "name": "python3"
  },
  "language_info": {
   "codemirror_mode": {
    "name": "ipython",
    "version": 3
   },
   "file_extension": ".py",
   "mimetype": "text/x-python",
   "name": "python",
   "nbconvert_exporter": "python",
   "pygments_lexer": "ipython3",
   "version": "3.10.14"
  }
 },
 "nbformat": 4,
 "nbformat_minor": 2
}
